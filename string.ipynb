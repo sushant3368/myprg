{
 "cells": [
  {
   "cell_type": "code",
   "execution_count": 7,
   "metadata": {},
   "outputs": [
    {
     "name": "stdout",
     "output_type": "stream",
     "text": [
      "123456789abc\n",
      "123456789123456789123456789\n",
      "qwertypqr\n"
     ]
    },
    {
     "data": {
      "text/plain": [
       "[('1', 'q'),\n",
       " ('2', 'w'),\n",
       " ('3', 'e'),\n",
       " ('4', 'r'),\n",
       " ('5', 't'),\n",
       " ('6', 'y'),\n",
       " ('7', 'p'),\n",
       " ('8', 'q'),\n",
       " ('9', 'r')]"
      ]
     },
     "execution_count": 7,
     "metadata": {},
     "output_type": "execute_result"
    }
   ],
   "source": [
    "str1 = '123456789'\n",
    "print(str1 + 'abc')\n",
    "print(str1*3)\n",
    "str2 = 'qwerty''pqr'\n",
    "print(str2)\n",
    "list(zip(str1,str2))"
   ]
  },
  {
   "cell_type": "code",
   "execution_count": 2,
   "metadata": {},
   "outputs": [
    {
     "name": "stdout",
     "output_type": "stream",
     "text": [
      "1 s \n",
      "\n",
      "2 u \n",
      "\n",
      "3 s \n",
      "\n",
      "4 h \n",
      "\n",
      "5 a \n",
      "\n",
      "6 n \n",
      "\n",
      "7 t \n",
      "\n",
      "2 number of s\n"
     ]
    }
   ],
   "source": [
    "str3 = 'sushant'\n",
    "count = 0\n",
    "sr = 1\n",
    "for i in str3:\n",
    "    print(sr,i,'\\n')\n",
    "    sr += 1\n",
    "    if(i == 's'):\n",
    "        count += 1\n",
    "print(count,'number of s')"
   ]
  },
  {
   "cell_type": "code",
   "execution_count": 39,
   "metadata": {},
   "outputs": [
    {
     "name": "stdout",
     "output_type": "stream",
     "text": [
      "True\n",
      "False\n",
      "True\n"
     ]
    }
   ],
   "source": [
    "print('a' in str3)\n",
    "print('d' in str3)\n",
    "print('r' not in str3)"
   ]
  },
  {
   "cell_type": "code",
   "execution_count": 45,
   "metadata": {},
   "outputs": [
    {
     "name": "stdout",
     "output_type": "stream",
     "text": [
      "{0: 's', 1: 'u', 2: 's', 3: 'h', 4: 'a', 5: 'n', 6: 't'}\n",
      "7\n"
     ]
    }
   ],
   "source": [
    "print(dict(enumerate(str3)))\n",
    "print(len(str3))"
   ]
  },
  {
   "cell_type": "code",
   "execution_count": 47,
   "metadata": {},
   "outputs": [
    {
     "name": "stdout",
     "output_type": "stream",
     "text": [
      "He said, what's your name?\n"
     ]
    }
   ],
   "source": [
    "print(\"He said, what's your name?\")"
   ]
  },
  {
   "cell_type": "code",
   "execution_count": 48,
   "metadata": {},
   "outputs": [
    {
     "name": "stdout",
     "output_type": "stream",
     "text": [
      "\u0007\n"
     ]
    }
   ],
   "source": [
    "print('\\a')"
   ]
  },
  {
   "cell_type": "code",
   "execution_count": 51,
   "metadata": {},
   "outputs": [
    {
     "name": "stdout",
     "output_type": "stream",
     "text": [
      "a, b, c and d\n",
      "c, a, b and d\n",
      "c, d, b and a\n"
     ]
    }
   ],
   "source": [
    "print(\"{}, {}, {} and {}\".format('a','b','c','d'))\n",
    "print(\"{2}, {0}, {1} and {3}\".format('a','b','c','d'))\n",
    "print(\"{r}, {s}, {q} and {p}\".format(p='a',q='b',r='c',s='d'))"
   ]
  },
  {
   "cell_type": "code",
   "execution_count": 53,
   "metadata": {},
   "outputs": [
    {
     "name": "stdout",
     "output_type": "stream",
     "text": [
      "sushant\n",
      "SUSHANT\n"
     ]
    }
   ],
   "source": [
    "st = 'SusHAnt'\n",
    "print(st.lower())\n",
    "print(st.upper())"
   ]
  },
  {
   "cell_type": "code",
   "execution_count": 10,
   "metadata": {},
   "outputs": [
    {
     "name": "stdout",
     "output_type": "stream",
     "text": [
      "my.name.is.sushant\n",
      "['my', 'name', 'is', 'sushant']\n"
     ]
    }
   ],
   "source": [
    "st1 = \"my.name.is.sushant\"\n",
    "print(st1)\n",
    "print(st1.split(\".\"))"
   ]
  },
  {
   "cell_type": "code",
   "execution_count": 15,
   "metadata": {},
   "outputs": [
    {
     "name": "stdout",
     "output_type": "stream",
     "text": [
      "pandilwar sushnat\n"
     ]
    },
    {
     "data": {
      "text/plain": [
       "'sushnat pandilwar'"
      ]
     },
     "execution_count": 15,
     "metadata": {},
     "output_type": "execute_result"
    }
   ],
   "source": [
    "st2 = ['sushnat','pandilwar']\n",
    "print(' '.join(st2[::-1]))\n",
    "' '.join(st2)"
   ]
  },
  {
   "cell_type": "code",
   "execution_count": 76,
   "metadata": {},
   "outputs": [
    {
     "data": {
      "text/plain": [
       "4"
      ]
     },
     "execution_count": 76,
     "metadata": {},
     "output_type": "execute_result"
    }
   ],
   "source": [
    "'my name is sushant'.find('am')"
   ]
  },
  {
   "cell_type": "code",
   "execution_count": 77,
   "metadata": {},
   "outputs": [
    {
     "data": {
      "text/plain": [
       "'my name is xyz'"
      ]
     },
     "execution_count": 77,
     "metadata": {},
     "output_type": "execute_result"
    }
   ],
   "source": [
    "'my name is abc'.replace('abc','xyz')"
   ]
  }
 ],
 "metadata": {
  "kernelspec": {
   "display_name": "Python 3",
   "language": "python",
   "name": "python3"
  },
  "language_info": {
   "codemirror_mode": {
    "name": "ipython",
    "version": 3
   },
   "file_extension": ".py",
   "mimetype": "text/x-python",
   "name": "python",
   "nbconvert_exporter": "python",
   "pygments_lexer": "ipython3",
   "version": "3.7.3"
  }
 },
 "nbformat": 4,
 "nbformat_minor": 2
}
